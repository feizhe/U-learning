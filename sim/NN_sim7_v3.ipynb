{
 "cells": [
  {
   "cell_type": "code",
   "execution_count": 1,
   "id": "4914b144",
   "metadata": {},
   "outputs": [
    {
     "data": {
      "text/plain": [
       "'drive/MyDrive/NN_sim7/'"
      ]
     },
     "execution_count": 1,
     "metadata": {},
     "output_type": "execute_result"
    }
   ],
   "source": [
    "path = 'NN_sim7/'\n",
    "\n",
    "hpath = 'drive/MyDrive/'\n",
    "hpath + path"
   ]
  },
  {
   "cell_type": "code",
   "execution_count": 2,
   "id": "6427ecbe",
   "metadata": {},
   "outputs": [],
   "source": [
    "import glob\n",
    "import os\n",
    "import re\n",
    "# import h5py\n",
    "\n",
    "# os.environ[\"CUDA_VISIBLE_DEVICES\"] = \"-1\""
   ]
  },
  {
   "cell_type": "code",
   "execution_count": 3,
   "id": "f03d08df-9014-4930-9721-5f6e03684c15",
   "metadata": {},
   "outputs": [],
   "source": [
    "import numpy as np\n",
    "\n",
    "from sklearn.model_selection import train_test_split\n",
    "\n",
    "import tensorflow as tf"
   ]
  },
  {
   "cell_type": "code",
   "execution_count": 4,
   "id": "32e85ef9-089a-40e9-b253-81b5c30b80e4",
   "metadata": {},
   "outputs": [
    {
     "data": {
      "text/plain": [
       "[]"
      ]
     },
     "execution_count": 4,
     "metadata": {},
     "output_type": "execute_result"
    }
   ],
   "source": [
    "tf.config.list_physical_devices('GPU')"
   ]
  },
  {
   "cell_type": "code",
   "execution_count": 5,
   "id": "86c66a1b",
   "metadata": {},
   "outputs": [],
   "source": [
    "from tensorflow.keras.models import Sequential, load_model\n",
    "from tensorflow.keras.layers import Dense, Dropout\n",
    "from tensorflow.keras.callbacks import EarlyStopping, ModelCheckpoint\n",
    "\n",
    "import matplotlib.pyplot as plt"
   ]
  },
  {
   "cell_type": "code",
   "execution_count": 6,
   "id": "2aa7db90",
   "metadata": {},
   "outputs": [],
   "source": [
    "# Combined functions\n",
    "\n",
    "es = EarlyStopping(monitor='val_loss', min_delta=0.001, patience=100, \n",
    "                   verbose=0, mode='min',\n",
    "                   restore_best_weights = True)\n",
    "\n",
    "\n",
    "class CustomModelCheckpointCallback(ModelCheckpoint):\n",
    "\n",
    "    def __init__(self, ignore_first=100, *args, **kwargs):\n",
    "      super(CustomModelCheckpointCallback, self).__init__(*args, **kwargs)\n",
    "      self.ignore_first = ignore_first\n",
    "\n",
    "    def on_epoch_end(self, epoch, logs):\n",
    "        if epoch+1> self.ignore_first:\n",
    "            super().on_epoch_end(epoch, logs)\n",
    "\n",
    "\n",
    "def create_folder(it = 1):\n",
    "    # specify the path to the directory where you want to create a new folder\n",
    "    # specify the name of the new folder\n",
    "    folder_name = 'dat_' + str(it)\n",
    "\n",
    "    # create the new folder under the specified directory\n",
    "    new_folder_path = os.path.join(path, folder_name)\n",
    "    os.makedirs(new_folder_path, exist_ok=True)\n",
    "    \n",
    "# create_folder(1)"
   ]
  },
  {
   "cell_type": "markdown",
   "id": "da3204d8",
   "metadata": {},
   "source": [
    "## Setting:\n",
    "\n",
    "Try parallel computing of the NN models and check if $\\sigma_y^2$ from the bootstrap equal to EmpVar \n",
    "\n",
    "- error variance, which is set to 0.5^2.\n",
    "\n",
    "Add conformal prediction intervals"
   ]
  },
  {
   "cell_type": "code",
   "execution_count": 7,
   "id": "18be2cf6",
   "metadata": {},
   "outputs": [],
   "source": [
    "def generate_data(n, it = 1,\n",
    "                  p=50, err = 0.5,\n",
    "                  a=1, b=2, ## X ~ Unif[a,b]\n",
    "                  columns=[0, 5, 10, 15]):\n",
    "\n",
    "    # Simulate data\n",
    "    np.random.seed(it)\n",
    "    \n",
    "    # Generate 100 iid variables following uniform(a, b) distribution\n",
    "    X = np.random.uniform(low=a, high=b, size=(n, p))\n",
    "\n",
    "    X_selected = X[:, columns]\n",
    "\n",
    "    y = 1/X_selected[:, 0] + X_selected[:, 1] + X_selected[:, 2]**2 + X_selected[:, 2]*X_selected[:, 3] + np.sin(X_selected[:, 3])\n",
    "\n",
    "    # Add some noise to y\n",
    "    y_obs = y + np.random.normal(0, err, size=y.shape)\n",
    "\n",
    "    df = np.c_[y, y_obs, X]\n",
    "\n",
    "    fname = path + 'df_' + str(it) + '.txt'\n",
    "    np.savetxt(fname, df, delimiter='\\t')\n",
    "    \n",
    "    return X, y, y_obs"
   ]
  },
  {
   "cell_type": "code",
   "execution_count": 13,
   "id": "25d1b779-bf82-466e-8b6a-10de2cb56ec0",
   "metadata": {},
   "outputs": [],
   "source": [
    "n=400\n",
    "ntest = 100\n",
    "p = 20\n",
    "a = 1\n",
    "b = 2\n",
    "err = 0.3"
   ]
  },
  {
   "cell_type": "raw",
   "id": "e31007a1-58f7-4996-81ff-227ee276920b",
   "metadata": {},
   "source": [
    "it=999\n",
    "X_test,y_test, y_test_obs = generate_data(n = ntest, it = it, p= p, \n",
    "                                          err = err, a = a, b=b)\n",
    "\n",
    "plt.scatter(y_test, y_test_obs)\n",
    "# plt.plot([y.min(), y.max()], [y.min(), y.max()], '--', color='gray')\n",
    "plt.show()"
   ]
  },
  {
   "cell_type": "raw",
   "id": "117e7819-799c-42b6-940a-04d8249abbba",
   "metadata": {},
   "source": [
    "## Training data\n",
    "\n",
    "n = 400\n",
    "\n",
    "it= 0\n",
    "# create_folder(it)\n",
    "X,y, y_obs = generate_data(n = n, it = it, p= p, \n",
    "                           err = err, a = a, b=b)\n",
    "\n",
    "plt.scatter(y, y_obs)\n",
    "# plt.plot([y.min(), y.max()], [y.min(), y.max()], '--', color='gray')\n",
    "plt.show()"
   ]
  },
  {
   "cell_type": "code",
   "execution_count": 14,
   "id": "b75e3cd2-4a49-4295-b2fe-3c633af79df5",
   "metadata": {},
   "outputs": [
    {
     "name": "stdout",
     "output_type": "stream",
     "text": [
      "100\n"
     ]
    },
    {
     "name": "stderr",
     "output_type": "stream",
     "text": [
      "/scratch/zhef/11566888/ipykernel_3409767/881566868.py:7: DeprecationWarning: `np.float` is a deprecated alias for the builtin `float`. To silence this warning, use `float` by itself. Doing this will not modify any behavior and is safe. If you specifically wanted the numpy scalar type, use `np.float64` here.\n",
      "Deprecated in NumPy 1.20; for more details and guidance: https://numpy.org/devdocs/release/1.20.0-notes.html#deprecations\n",
      "  df = np.array(values, dtype=np.float)\n"
     ]
    },
    {
     "data": {
      "text/plain": [
       "(100, 20)"
      ]
     },
     "execution_count": 14,
     "metadata": {},
     "output_type": "execute_result"
    }
   ],
   "source": [
    "# Open the file and read its contents\n",
    "with open(path + 'df_999.txt', 'r') as f:\n",
    "    # Split the lines of the file into individual values\n",
    "    values = [line.strip().split('\\t') for line in f]\n",
    "\n",
    "# Convert the values into a NumPy array\n",
    "df = np.array(values, dtype=np.float)\n",
    "df.shape\n",
    "\n",
    "X_test = df[:, 2:]\n",
    "y_test = df[:, 0]\n",
    "y_test_obs = df[:, 1]\n",
    "print(len(y_test))\n",
    "X_test.shape"
   ]
  },
  {
   "cell_type": "code",
   "execution_count": 15,
   "id": "aeb38c32-a946-4cfa-b0d0-6b56ab2dfd14",
   "metadata": {},
   "outputs": [
    {
     "name": "stderr",
     "output_type": "stream",
     "text": [
      "/scratch/zhef/11566888/ipykernel_3409767/3010079858.py:6: DeprecationWarning: `np.float` is a deprecated alias for the builtin `float`. To silence this warning, use `float` by itself. Doing this will not modify any behavior and is safe. If you specifically wanted the numpy scalar type, use `np.float64` here.\n",
      "Deprecated in NumPy 1.20; for more details and guidance: https://numpy.org/devdocs/release/1.20.0-notes.html#deprecations\n",
      "  df = np.array(values, dtype=np.float)\n"
     ]
    }
   ],
   "source": [
    "with open(path + 'df_0.txt', 'r') as f:\n",
    "    # Split the lines of the file into individual values\n",
    "    values = [line.strip().split('\\t') for line in f]\n",
    "\n",
    "# Convert the values into a NumPy array\n",
    "df = np.array(values, dtype=np.float)\n",
    "X = df[:, 2:]\n",
    "y = df[:, 0]\n",
    "y_obs = df[:, 1]"
   ]
  },
  {
   "cell_type": "code",
   "execution_count": 16,
   "id": "4fb05ab3-493d-408c-9464-1cbba7b4873a",
   "metadata": {},
   "outputs": [
    {
     "name": "stdout",
     "output_type": "stream",
     "text": [
      "(400, 20)\n"
     ]
    }
   ],
   "source": [
    "print(X.shape)"
   ]
  },
  {
   "cell_type": "code",
   "execution_count": 17,
   "id": "9b79c541",
   "metadata": {},
   "outputs": [
    {
     "data": {
      "text/plain": [
       "0"
      ]
     },
     "execution_count": 17,
     "metadata": {},
     "output_type": "execute_result"
    }
   ],
   "source": [
    "import joblib\n",
    "import time\n",
    "\n",
    "import gc\n",
    "gc.collect()\n",
    "\n"
   ]
  },
  {
   "cell_type": "code",
   "execution_count": 18,
   "id": "e62233cb",
   "metadata": {},
   "outputs": [],
   "source": [
    "def one_split(X, y, X_test, y_test, # model,\n",
    "              it = 1, b = 1, \n",
    "              th_val_loss = 0.3, \n",
    "              test_size=0.5,\n",
    "              model_dense_layer_1_activation='relu', \n",
    "              model_dense_layer_2_activation='relu',\n",
    "              early_stop_patience = 100, early_stop_min_delta = 0.001, \n",
    "              model_epochs=200, model_batch_size=32, model_loss='mse',\n",
    "              model_optimizer='adam', \n",
    "              verbose=False,\n",
    "              plot_res = False,\n",
    "              del_weights = True):\n",
    "\n",
    "    p = X.shape[1]\n",
    "    n = len(y)\n",
    "    ntest = len(y_test)\n",
    "\n",
    "    # Split the data into training and testing sets\n",
    "    indices = range(n)\n",
    "\n",
    "    X_train, X_val, y_train, y_val, indices_train, indices_val = train_test_split(X, y, indices,\n",
    "                                                                                  test_size = test_size,\n",
    "                                                                                  random_state = 1000*it+b) \n",
    "\n",
    "\n",
    "    es = EarlyStopping(monitor='val_loss', min_delta=early_stop_min_delta, \n",
    "                       patience=early_stop_patience, \n",
    "                       verbose=0, mode='min',\n",
    "                       restore_best_weights = True)\n",
    "    \n",
    "\n",
    "    # Define and train the neural network\n",
    "    model = Sequential()\n",
    "    model.add(Dense(64, activation=model_dense_layer_1_activation, input_shape=(p,)))\n",
    "    model.add(Dropout(0.5))\n",
    "    model.add(Dense(64, activation=model_dense_layer_2_activation))\n",
    "    model.add(Dropout(0.5))\n",
    "    model.add(Dense(1, activation='linear'))\n",
    "    model.compile(loss='mse', optimizer='adam')\n",
    "\n",
    "\n",
    "    # loaded_model.compile(loss='mse', optimizer='adam')\n",
    "    # model.fit(X_train, y_train, epochs=50, batch_size=32)\n",
    "\n",
    "\n",
    "    history = model.fit(X_train, y_train, validation_data=(X_val, y_val), \n",
    "                        epochs=model_epochs, batch_size=32,\n",
    "                        callbacks=[es],  verbose = verbose)\n",
    "    \n",
    "    val_loss = min(history.history['val_loss'])\n",
    "    train_loss = min(history.history['loss'])\n",
    "    train_epochs = len(history.history['val_loss'])\n",
    "\n",
    "    y_pred = model.predict(X_test)\n",
    "    y_val_pred = model.predict(X_val)\n",
    "    # print(val_loss)\n",
    "    # print(mean_squared_error(y_val, y_val_pred))\n",
    "\n",
    "    y_vec = np.zeros(n+ntest)\n",
    "    y_vec[indices_val] = y_val_pred.flatten()\n",
    "    y_vec[-ntest:] = y_pred.flatten()\n",
    "    \n",
    "    if plot_res:\n",
    "        # Plot the training and validation errors versus epochs\n",
    "        plt.plot(history.history['loss'], label='Training Error')\n",
    "        plt.plot(history.history['val_loss'], label='Validation Error')\n",
    "        plt.xlabel('Epochs')\n",
    "        plt.ylabel('Error')\n",
    "        plt.legend()\n",
    "\n",
    "        # Save the plot to a file\n",
    "        plt.savefig('training_errs.png')\n",
    "        plt.show()\n",
    "\n",
    "\n",
    "    \n",
    "    return train_loss, val_loss, y_vec, train_epochs"
   ]
  },
  {
   "cell_type": "code",
   "execution_count": 22,
   "id": "b945c9a0",
   "metadata": {
    "scrolled": true
   },
   "outputs": [
    {
     "name": "stdout",
     "output_type": "stream",
     "text": [
      "4/4 [==============================] - 0s 4ms/step\n",
      "7/7 [==============================] - 0s 2ms/step\n"
     ]
    },
    {
     "data": {
      "image/png": "[encoded data removed]",
      "text/plain": [
       "<Figure size 640x480 with 1 Axes>"
      ]
     },
     "metadata": {},
     "output_type": "display_data"
    }
   ],
   "source": [
    "it = 0\n",
    "train_loss, val_loss, y_vec, train_epochs = one_split(X, y_obs, X_test, y_test, \n",
    "                                                      it = it, b = 21,\n",
    "                                                      test_size=0.5,\n",
    "                                                      model_epochs=300,\n",
    "                                                     verbose=False, plot_res=True)                        "
   ]
  },
  {
   "cell_type": "code",
   "execution_count": 23,
   "id": "1c95902b",
   "metadata": {
    "scrolled": true
   },
   "outputs": [
    {
     "name": "stdout",
     "output_type": "stream",
     "text": [
      "1.7956881523132324\n",
      "0.2856646776199341\n",
      "300\n"
     ]
    },
    {
     "data": {
      "image/png": "[encoded data removed]",
      "text/plain": [
       "<Figure size 640x480 with 1 Axes>"
      ]
     },
     "metadata": {},
     "output_type": "display_data"
    },
    {
     "data": {
      "image/png": "[encoded data removed]",
      "text/plain": [
       "<Figure size 640x480 with 1 Axes>"
      ]
     },
     "metadata": {},
     "output_type": "display_data"
    }
   ],
   "source": [
    "print(train_loss)\n",
    "print(val_loss)\n",
    "print(train_epochs)\n",
    "# y_vec\n",
    "n = len(y)\n",
    "plt.scatter(y, y_vec[:n])\n",
    "plt.axline((10, 10), slope=1, linestyle = '--', color='gray')\n",
    "plt.show()\n",
    "\n",
    "ntest = len(y_test)\n",
    "plt.scatter(y_test, y_vec[-ntest:])\n",
    "plt.axline((10, 10), slope=1, linestyle = '--', color='gray')\n",
    "plt.show()"
   ]
  },
  {
   "cell_type": "code",
   "execution_count": 20,
   "id": "983d45c8",
   "metadata": {},
   "outputs": [
    {
     "name": "stdout",
     "output_type": "stream",
     "text": [
      "Number of CPUs: 64\n"
     ]
    }
   ],
   "source": [
    "import multiprocessing\n",
    "\n",
    "num_cpus = multiprocessing.cpu_count()\n",
    "print(\"Number of CPUs:\", num_cpus)\n",
    "\n",
    "from joblib import Parallel, delayed, parallel_backend\n",
    "num_cores = 10 # Number of CPU cores to use for parallel processing\n",
    "\n"
   ]
  },
  {
   "cell_type": "code",
   "execution_count": 18,
   "id": "6e3078fd",
   "metadata": {},
   "outputs": [
    {
     "data": {
      "text/plain": [
       "array([ 200,  300,  400,  500,  600,  700,  800,  900, 1000])"
      ]
     },
     "execution_count": 18,
     "metadata": {},
     "output_type": "execute_result"
    }
   ],
   "source": [
    "np.arange(2,11) * 100"
   ]
  },
  {
   "cell_type": "code",
   "execution_count": 21,
   "id": "6cddb08a",
   "metadata": {},
   "outputs": [
    {
     "data": {
      "text/plain": [
       "0"
      ]
     },
     "execution_count": 21,
     "metadata": {},
     "output_type": "execute_result"
    }
   ],
   "source": [
    "import joblib\n",
    "import time\n",
    "\n",
    "import gc\n",
    "gc.collect()\n"
   ]
  },
  {
   "cell_type": "code",
   "execution_count": 22,
   "id": "cde0502e-b7c5-4bdb-91a0-d83e867cb26a",
   "metadata": {},
   "outputs": [],
   "source": [
    "import multiprocessing\n",
    "# X,y = generate_data(n=400, it = 10)\n",
    "# it = 32\n",
    "start_time = time.time()\n",
    "# mem.clear(warn=False)\n",
    "mem = joblib.Memory(location='cache', verbose=0)\n",
    "\n",
    "@mem.cache\n",
    "def run_one_split(X, y, X_test, y_test, it, b):\n",
    "    return one_split(X, y, X_test, y_test, it, b,\n",
    "                    test_size=0.5,\n",
    "                     model_epochs=200)"
   ]
  },
  {
   "cell_type": "code",
   "execution_count": 24,
   "id": "b69b43b0-28e2-4fc1-836d-eb61afb67905",
   "metadata": {
    "scrolled": true
   },
   "outputs": [
    {
     "name": "stderr",
     "output_type": "stream",
     "text": [
      "2023-06-09 23:06:18.000887: I tensorflow/core/platform/cpu_feature_guard.cc:182] This TensorFlow binary is optimized to use available CPU instructions in performance-critical operations.\n",
      "To enable the following instructions: SSE4.1 SSE4.2 AVX AVX2 FMA, in other operations, rebuild TensorFlow with the appropriate compiler flags.\n",
      "2023-06-09 23:06:18.054670: I tensorflow/core/platform/cpu_feature_guard.cc:182] This TensorFlow binary is optimized to use available CPU instructions in performance-critical operations.\n",
      "To enable the following instructions: SSE4.1 SSE4.2 AVX AVX2 FMA, in other operations, rebuild TensorFlow with the appropriate compiler flags.\n",
      "2023-06-09 23:06:18.078103: I tensorflow/core/platform/cpu_feature_guard.cc:182] This TensorFlow binary is optimized to use available CPU instructions in performance-critical operations.\n",
      "To enable the following instructions: SSE4.1 SSE4.2 AVX AVX2 FMA, in other operations, rebuild TensorFlow with the appropriate compiler flags.\n",
      "2023-06-09 23:06:18.122221: I tensorflow/core/platform/cpu_feature_guard.cc:182] This TensorFlow binary is optimized to use available CPU instructions in performance-critical operations.\n",
      "To enable the following instructions: SSE4.1 SSE4.2 AVX AVX2 FMA, in other operations, rebuild TensorFlow with the appropriate compiler flags.\n",
      "2023-06-09 23:06:18.199338: I tensorflow/core/platform/cpu_feature_guard.cc:182] This TensorFlow binary is optimized to use available CPU instructions in performance-critical operations.\n",
      "To enable the following instructions: SSE4.1 SSE4.2 AVX AVX2 FMA, in other operations, rebuild TensorFlow with the appropriate compiler flags.\n",
      "2023-06-09 23:06:18.205652: I tensorflow/core/platform/cpu_feature_guard.cc:182] This TensorFlow binary is optimized to use available CPU instructions in performance-critical operations.\n",
      "To enable the following instructions: SSE4.1 SSE4.2 AVX AVX2 FMA, in other operations, rebuild TensorFlow with the appropriate compiler flags.\n",
      "2023-06-09 23:06:18.207708: I tensorflow/core/platform/cpu_feature_guard.cc:182] This TensorFlow binary is optimized to use available CPU instructions in performance-critical operations.\n",
      "To enable the following instructions: SSE4.1 SSE4.2 AVX AVX2 FMA, in other operations, rebuild TensorFlow with the appropriate compiler flags.\n",
      "2023-06-09 23:06:18.222234: I tensorflow/core/platform/cpu_feature_guard.cc:182] This TensorFlow binary is optimized to use available CPU instructions in performance-critical operations.\n",
      "To enable the following instructions: SSE4.1 SSE4.2 AVX AVX2 FMA, in other operations, rebuild TensorFlow with the appropriate compiler flags.\n",
      "2023-06-09 23:06:18.243327: I tensorflow/core/platform/cpu_feature_guard.cc:182] This TensorFlow binary is optimized to use available CPU instructions in performance-critical operations.\n",
      "To enable the following instructions: SSE4.1 SSE4.2 AVX AVX2 FMA, in other operations, rebuild TensorFlow with the appropriate compiler flags.\n",
      "2023-06-09 23:06:18.329492: I tensorflow/core/platform/cpu_feature_guard.cc:182] This TensorFlow binary is optimized to use available CPU instructions in performance-critical operations.\n",
      "To enable the following instructions: SSE4.1 SSE4.2 AVX AVX2 FMA, in other operations, rebuild TensorFlow with the appropriate compiler flags.\n",
      "2023-06-09 23:06:18.346541: I tensorflow/core/platform/cpu_feature_guard.cc:182] This TensorFlow binary is optimized to use available CPU instructions in performance-critical operations.\n",
      "To enable the following instructions: SSE4.1 SSE4.2 AVX AVX2 FMA, in other operations, rebuild TensorFlow with the appropriate compiler flags.\n",
      "2023-06-09 23:06:18.388821: I tensorflow/core/platform/cpu_feature_guard.cc:182] This TensorFlow binary is optimized to use available CPU instructions in performance-critical operations.\n",
      "To enable the following instructions: SSE4.1 SSE4.2 AVX AVX2 FMA, in other operations, rebuild TensorFlow with the appropriate compiler flags.\n",
      "2023-06-09 23:06:18.401708: I tensorflow/core/platform/cpu_feature_guard.cc:182] This TensorFlow binary is optimized to use available CPU instructions in performance-critical operations.\n",
      "To enable the following instructions: SSE4.1 SSE4.2 AVX AVX2 FMA, in other operations, rebuild TensorFlow with the appropriate compiler flags.\n",
      "2023-06-09 23:06:18.465209: I tensorflow/core/platform/cpu_feature_guard.cc:182] This TensorFlow binary is optimized to use available CPU instructions in performance-critical operations.\n",
      "To enable the following instructions: SSE4.1 SSE4.2 AVX AVX2 FMA, in other operations, rebuild TensorFlow with the appropriate compiler flags.\n",
      "2023-06-09 23:06:18.626236: I tensorflow/core/platform/cpu_feature_guard.cc:182] This TensorFlow binary is optimized to use available CPU instructions in performance-critical operations.\n",
      "To enable the following instructions: SSE4.1 SSE4.2 AVX AVX2 FMA, in other operations, rebuild TensorFlow with the appropriate compiler flags.\n",
      "2023-06-09 23:06:18.859965: I tensorflow/core/platform/cpu_feature_guard.cc:182] This TensorFlow binary is optimized to use available CPU instructions in performance-critical operations.\n",
      "To enable the following instructions: SSE4.1 SSE4.2 AVX AVX2 FMA, in other operations, rebuild TensorFlow with the appropriate compiler flags.\n",
      "2023-06-09 23:06:19.030041: I tensorflow/core/platform/cpu_feature_guard.cc:182] This TensorFlow binary is optimized to use available CPU instructions in performance-critical operations.\n",
      "To enable the following instructions: SSE4.1 SSE4.2 AVX AVX2 FMA, in other operations, rebuild TensorFlow with the appropriate compiler flags.\n",
      "2023-06-09 23:06:19.819961: I tensorflow/core/platform/cpu_feature_guard.cc:182] This TensorFlow binary is optimized to use available CPU instructions in performance-critical operations.\n",
      "To enable the following instructions: SSE4.1 SSE4.2 AVX AVX2 FMA, in other operations, rebuild TensorFlow with the appropriate compiler flags.\n",
      "2023-06-09 23:06:19.831537: I tensorflow/core/platform/cpu_feature_guard.cc:182] This TensorFlow binary is optimized to use available CPU instructions in performance-critical operations.\n",
      "To enable the following instructions: SSE4.1 SSE4.2 AVX AVX2 FMA, in other operations, rebuild TensorFlow with the appropriate compiler flags.\n",
      "2023-06-09 23:06:19.978395: I tensorflow/core/platform/cpu_feature_guard.cc:182] This TensorFlow binary is optimized to use available CPU instructions in performance-critical operations.\n",
      "To enable the following instructions: SSE4.1 SSE4.2 AVX AVX2 FMA, in other operations, rebuild TensorFlow with the appropriate compiler flags.\n",
      "2023-06-09 23:06:25.327692: I tensorflow/core/common_runtime/process_util.cc:146] Creating new thread pool with default inter op setting: 12. Tune using inter_op_parallelism_threads for best performance.\n",
      "2023-06-09 23:06:25.348547: I tensorflow/core/common_runtime/process_util.cc:146] Creating new thread pool with default inter op setting: 12. Tune using inter_op_parallelism_threads for best performance.\n",
      "2023-06-09 23:06:25.388530: I tensorflow/core/common_runtime/process_util.cc:146] Creating new thread pool with default inter op setting: 12. Tune using inter_op_parallelism_threads for best performance.\n",
      "2023-06-09 23:06:25.410575: I tensorflow/core/common_runtime/process_util.cc:146] Creating new thread pool with default inter op setting: 12. Tune using inter_op_parallelism_threads for best performance.\n",
      "2023-06-09 23:06:25.455121: I tensorflow/core/common_runtime/process_util.cc:146] Creating new thread pool with default inter op setting: 12. Tune using inter_op_parallelism_threads for best performance.\n",
      "2023-06-09 23:06:25.597294: I tensorflow/core/common_runtime/process_util.cc:146] Creating new thread pool with default inter op setting: 12. Tune using inter_op_parallelism_threads for best performance.\n",
      "2023-06-09 23:06:25.629247: I tensorflow/core/common_runtime/process_util.cc:146] Creating new thread pool with default inter op setting: 12. Tune using inter_op_parallelism_threads for best performance.\n",
      "2023-06-09 23:06:25.692510: I tensorflow/core/common_runtime/process_util.cc:146] Creating new thread pool with default inter op setting: 12. Tune using inter_op_parallelism_threads for best performance.\n",
      "2023-06-09 23:06:25.724427: I tensorflow/core/common_runtime/process_util.cc:146] Creating new thread pool with default inter op setting: 12. Tune using inter_op_parallelism_threads for best performance.\n",
      "2023-06-09 23:06:25.770325: I tensorflow/core/common_runtime/process_util.cc:146] Creating new thread pool with default inter op setting: 12. Tune using inter_op_parallelism_threads for best performance.\n",
      "2023-06-09 23:06:25.901682: I tensorflow/core/common_runtime/process_util.cc:146] Creating new thread pool with default inter op setting: 12. Tune using inter_op_parallelism_threads for best performance.\n",
      "2023-06-09 23:06:26.000436: I tensorflow/core/common_runtime/process_util.cc:146] Creating new thread pool with default inter op setting: 12. Tune using inter_op_parallelism_threads for best performance.\n",
      "2023-06-09 23:06:26.101484: I tensorflow/core/common_runtime/process_util.cc:146] Creating new thread pool with default inter op setting: 12. Tune using inter_op_parallelism_threads for best performance.\n",
      "2023-06-09 23:06:26.151580: I tensorflow/core/common_runtime/process_util.cc:146] Creating new thread pool with default inter op setting: 12. Tune using inter_op_parallelism_threads for best performance.\n",
      "2023-06-09 23:06:26.750825: I tensorflow/core/common_runtime/process_util.cc:146] Creating new thread pool with default inter op setting: 12. Tune using inter_op_parallelism_threads for best performance.\n"
     ]
    },
    {
     "name": "stdout",
     "output_type": "stream",
     "text": [
      "4/4 [==============================] - 0s 2ms/step\n",
      "4/4 [==============================] - 0s 2ms/step\n",
      "7/7 [==============================] - 0s 2ms/step\n",
      "4/4 [==============================] - 0s 3ms/step\n",
      "7/7 [==============================] - 0s 3ms/step\n",
      "7/7 [==============================] - 0s 1ms/step\n",
      "4/4 [==============================] - 0s 1ms/step\n",
      "4/4 [==============================] - 0s 1ms/step\n",
      "4/4 [==============================] - 0s 3ms/step\n",
      "4/4 [==============================] - 0s 2ms/step\n",
      "7/7 [==============================] - 0s 2ms/step\n",
      "4/4 [==============================] - 0s 2ms/step\n",
      "7/7 [==============================] - 0s 2ms/step\n",
      "7/7 [==============================] - 0s 2ms/step\n",
      "7/7 [==============================] - 0s 1ms/step\n",
      "4/4 [==============================] - 0s 1ms/step\n",
      "4/4 [==============================] - 0s 2ms/step\n",
      "7/7 [==============================] - 0s 1ms/step\n",
      "7/7 [==============================] - 0s 930us/step\n",
      "7/7 [==============================] - 0s 1ms/step\n",
      "4/4 [==============================] - 0s 2ms/step\n",
      "4/4 [==============================] - 0s 1ms/step\n",
      "4/4 [==============================] - 0s 2ms/step\n",
      "7/7 [==============================] - 0s 914us/step\n",
      "7/7 [==============================] - 0s 877us/step\n",
      "4/4 [==============================] - 0s 1ms/step\n",
      "4/4 [==============================] - 0s 1ms/step\n",
      "7/7 [==============================] - 0s 902us/step\n",
      "7/7 [==============================] - 0s 888us/step\n",
      "7/7 [==============================] - 0s 923us/step\n"
     ]
    }
   ],
   "source": [
    "b_vals = range(40)\n",
    "# inputs = [(X, y, X_test, y_test, it, b) for b in b_vals]\n",
    "it = 0\n",
    "start_time = time.time()\n",
    "# results = Parallel(n_jobs=num_cores, backend='loky')(delayed(run_one_split)(*i) for i in inputs)\n",
    "with parallel_backend(\"loky\"), Parallel(n_jobs= 20) as parallel:\n",
    "    results = parallel(delayed(run_one_split)(X, y_obs, X_test, y_test, it, b) for b in b_vals)\n",
    "    # terminate the processes\n",
    "parallel._backend.terminate()\n",
    "# parallel._backend.kill()\n",
    "\n",
    "end_time = time.time()\n",
    "elapsed_time = end_time - start_time"
   ]
  },
  {
   "cell_type": "code",
   "execution_count": 25,
   "id": "dacc81ab-433a-4980-b231-6db5805e3ad6",
   "metadata": {},
   "outputs": [
    {
     "name": "stdout",
     "output_type": "stream",
     "text": [
      "Elapsed time: 31.30 seconds\n",
      "40\n",
      "40\n",
      "(40, 500)\n"
     ]
    }
   ],
   "source": [
    "print(f\"Elapsed time: {elapsed_time:.2f} seconds\")\n",
    "print(len(results))\n",
    "\n",
    "train_losses = [result[0] for result in results]\n",
    "val_losses = [result[1] for result in results]\n",
    "y_vecs = [result[2] for result in results]\n",
    "epochs = [result[3] for result in results]\n",
    "\n",
    "print(len(y_vecs))\n",
    "# print(val_losses)\n",
    "\n",
    "Brep = len(val_losses)\n",
    "y_mat = np.array(y_vecs)\n",
    "print(y_mat.shape)"
   ]
  },
  {
   "cell_type": "code",
   "execution_count": 26,
   "id": "24d89bf8-8a1d-4548-a50f-bb04e09fb8e6",
   "metadata": {},
   "outputs": [
    {
     "data": {
      "text/plain": [
       "[200, 200]"
      ]
     },
     "execution_count": 26,
     "metadata": {},
     "output_type": "execute_result"
    }
   ],
   "source": [
    "[np.min(epochs), np.max(epochs)]"
   ]
  },
  {
   "cell_type": "code",
   "execution_count": 27,
   "id": "d960cd1d-14bd-4479-88c3-ddceaae68ce3",
   "metadata": {},
   "outputs": [],
   "source": [
    "fname = path + 'ypred_dat' + str(it) + '_Brep=' + str(Brep) + '.txt'\n",
    "np.savetxt(fname, y_mat, delimiter='\\t')\n",
    "\n",
    "fname = path + 'val_loss_dat' + str(it) + '_Brep=' + str(Brep) + '.txt'\n",
    "np.savetxt(fname, val_losses, delimiter='\\t')\n",
    "\n",
    "fname = path + 'train_loss_dat' + str(it) + '_Brep=' + str(Brep) + '.txt'\n",
    "np.savetxt(fname, train_losses, delimiter='\\t')"
   ]
  },
  {
   "cell_type": "code",
   "execution_count": null,
   "id": "52913783",
   "metadata": {},
   "outputs": [],
   "source": [
    "# model, val_loss_final = save_model(X, y, it=it)"
   ]
  },
  {
   "cell_type": "code",
   "execution_count": null,
   "id": "14b8b8a5",
   "metadata": {},
   "outputs": [],
   "source": [
    "val_loss_vec = []\n",
    "val_loss_vec.append(12)\n",
    "val_loss_vec.append(22)\n",
    "val_loss_vec.append(32)\n",
    "val_loss_vec"
   ]
  },
  {
   "cell_type": "code",
   "execution_count": null,
   "id": "c258fe0b",
   "metadata": {},
   "outputs": [],
   "source": [
    "nsim = 300\n",
    "Brep = 100\n",
    "\n",
    "\n",
    "# resall = np.zeros((nsim, n, 6))\n",
    "# res_test = np.zeros((nsim, ntest, 6))\n",
    "\n",
    "# early_stop_patience=200,\n",
    "\n",
    "# y_fits_arr = np.empty((nsim, 200, n))\n",
    "y_preds_arr = np.empty((nsim, Brep, n+ntest))\n",
    "ntrain_epochs = np.empty((nsim, Brep))\n",
    "val_losses = np.empty((nsim, Brep))\n",
    "\n",
    "len(y_vec)"
   ]
  },
  {
   "cell_type": "code",
   "execution_count": null,
   "id": "eac0fa3a",
   "metadata": {},
   "outputs": [],
   "source": [
    "# b_vals = range(Brep)\n",
    "# num_cores = 6\n",
    "\n",
    "for it in range(nsim):\n",
    "    \n",
    "    gc.collect()\n",
    "\n",
    "    start_time = time.time()\n",
    "    print(it)\n",
    "    # create_folder(it)\n",
    "    X, y, y_obs = generate_data(n, it)\n",
    "    \n",
    "    n_epochs = []\n",
    "    val_loss_vec = []\n",
    "    y_mat = np.zeros((0, n+ntest))\n",
    "    for b in range(Brep):\n",
    "\n",
    "        val_loss, y_vec, train_epochs = one_split(X, y_obs, X_test, y_test, it = it, b = b)                        \n",
    "        print(train_epochs)\n",
    "        # Separate val_loss and y_vec into two separate lists\n",
    "        # val_losses = [result[0] for result in results]\n",
    "        # y_vecs = [result[1] for result in results]\n",
    "\n",
    "        val_loss_vec.append(val_loss)\n",
    "        n_epochs.append(train_epochs)\n",
    "        y_mat = np.vstack((y_mat, y_vec ) ) \n",
    "\n",
    "    # y_mat = np.array(y_vecs)\n",
    "    print(f\"y mat shape is {y_mat.shape}\")\n",
    "    \n",
    "    y_preds_arr[it, :, :] = y_mat\n",
    "    val_losses[it, :] = val_loss_vec\n",
    "    ntrain_epochs[it, :] = n_epochs\n",
    "\n",
    "    if it % 10 == 1:\n",
    "        \n",
    "        print(val_losses[it, :])\n",
    "        print(np.mean(ntrain_epochs, axis=1))\n",
    "\n",
    "        np.save(path+'_val_losses.npy', val_losses)\n",
    "        np.save(path+'_ntrain_epochs.npy', ntrain_epochs)\n",
    "        \n",
    "        np.save(path+'_y_preds_arr.npy', y_preds_arr)\n",
    "\n",
    "\n",
    "\n",
    "    end_time = time.time()\n",
    "    elapsed_time = end_time - start_time\n",
    "    print(f\"Elapsed time: {elapsed_time:.2f} seconds\")\n",
    "    \n",
    "    \n",
    "    "
   ]
  },
  {
   "cell_type": "code",
   "execution_count": null,
   "id": "01ba7a3c",
   "metadata": {},
   "outputs": [],
   "source": [
    "train_epochs\n",
    "it"
   ]
  },
  {
   "cell_type": "code",
   "execution_count": null,
   "id": "143aa64d",
   "metadata": {},
   "outputs": [],
   "source": [
    "len(val_loss_vec)\n",
    "val_losses = np.array(val_loss_vec)  \n",
    "val_losses.shape"
   ]
  },
  {
   "cell_type": "code",
   "execution_count": null,
   "id": "cc9c46f1",
   "metadata": {},
   "outputs": [],
   "source": [
    "import multiprocess as mp\n",
    "mp.cpu_count()\n",
    "it"
   ]
  },
  {
   "cell_type": "markdown",
   "id": "138bbfb6",
   "metadata": {},
   "source": [
    "joblib/parallel.py:288: UserWarning: Persisting input arguments took 0.74s to run.\n",
    "If this happens often in your code, it can cause performance problems \n",
    "(results will be correct in all cases). \n",
    "The reason for this is probably some large input arguments for a wrapped\n",
    " function (e.g. large strings).\n",
    "THIS IS A JOBLIB ISSUE. If you can, kindly provide the joblib's team with an\n",
    " example so that they can fix the problem.\n",
    "  return [func(*args, **kwargs)\n"
   ]
  }
 ],
 "metadata": {
  "kernelspec": {
   "display_name": "JupyterPy3",
   "language": "python",
   "name": "ipykernel_fz"
  },
  "language_info": {
   "codemirror_mode": {
    "name": "ipython",
    "version": 3
   },
   "file_extension": ".py",
   "mimetype": "text/x-python",
   "name": "python",
   "nbconvert_exporter": "python",
   "pygments_lexer": "ipython3",
   "version": "3.11.3"
  }
 },
 "nbformat": 4,
 "nbformat_minor": 5
}
